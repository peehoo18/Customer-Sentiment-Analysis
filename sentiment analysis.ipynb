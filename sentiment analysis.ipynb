{
 "cells": [
  {
   "cell_type": "code",
   "execution_count": 1,
   "metadata": {},
   "outputs": [],
   "source": [
    "import pandas as pd\n",
    "import numpy as np\n",
    "from sklearn.model_selection import train_test_split\n",
    "import matplotlib.pyplot as plt\n",
    "import string\n",
    "import seaborn as sns\n",
    "import re\n",
    "from sklearn.feature_extraction.text import CountVectorizer\n",
    "from sklearn.feature_extraction.text import TfidfVectorizer\n",
    "from sklearn.linear_model import LogisticRegression\n",
    "from sklearn.naive_bayes import MultinomialNB\n",
    "from sklearn.metrics import accuracy_score,confusion_matrix\n",
    "import nltk\n",
    "from nltk.corpus import stopwords\n",
    "from wordcloud import WordCloud, STOPWORDS\n",
    "from nltk.tokenize import word_tokenize\n",
    "from nltk.stem import PorterStemmer\n",
    "\n",
    "from sklearn.model_selection import cross_val_score\n",
    "from sklearn.metrics import accuracy_score, precision_score, recall_score, f1_score\n",
    "from sklearn.linear_model import LogisticRegression\n",
    "\n",
    "import warnings\n",
    "warnings.filterwarnings('ignore')"
   ]
  },
  {
   "cell_type": "code",
   "execution_count": 2,
   "id": "b56e79a9-a079-442e-97ad-30634c4d6b3d",
   "metadata": {},
   "outputs": [
    {
     "data": {
      "text/html": [
       "<div>\n",
       "<style scoped>\n",
       "    .dataframe tbody tr th:only-of-type {\n",
       "        vertical-align: middle;\n",
       "    }\n",
       "\n",
       "    .dataframe tbody tr th {\n",
       "        vertical-align: top;\n",
       "    }\n",
       "\n",
       "    .dataframe thead th {\n",
       "        text-align: right;\n",
       "    }\n",
       "</style>\n",
       "<table border=\"1\" class=\"dataframe\">\n",
       "  <thead>\n",
       "    <tr style=\"text-align: right;\">\n",
       "      <th></th>\n",
       "      <th>text</th>\n",
       "      <th>sentiment</th>\n",
       "    </tr>\n",
       "  </thead>\n",
       "  <tbody>\n",
       "    <tr>\n",
       "      <th>0</th>\n",
       "      <td>Now, I won't deny that when I purchased this o...</td>\n",
       "      <td>neg</td>\n",
       "    </tr>\n",
       "    <tr>\n",
       "      <th>1</th>\n",
       "      <td>The saddest thing about this \"tribute\" is that...</td>\n",
       "      <td>neg</td>\n",
       "    </tr>\n",
       "    <tr>\n",
       "      <th>2</th>\n",
       "      <td>Last night I decided to watch the prequel or s...</td>\n",
       "      <td>neg</td>\n",
       "    </tr>\n",
       "    <tr>\n",
       "      <th>3</th>\n",
       "      <td>I have to admit that i liked the first half of...</td>\n",
       "      <td>neg</td>\n",
       "    </tr>\n",
       "    <tr>\n",
       "      <th>4</th>\n",
       "      <td>I was not impressed about this film especially...</td>\n",
       "      <td>neg</td>\n",
       "    </tr>\n",
       "  </tbody>\n",
       "</table>\n",
       "</div>"
      ],
      "text/plain": [
       "                                                text sentiment\n",
       "0  Now, I won't deny that when I purchased this o...       neg\n",
       "1  The saddest thing about this \"tribute\" is that...       neg\n",
       "2  Last night I decided to watch the prequel or s...       neg\n",
       "3  I have to admit that i liked the first half of...       neg\n",
       "4  I was not impressed about this film especially...       neg"
      ]
     },
     "execution_count": 2,
     "metadata": {},
     "output_type": "execute_result"
    }
   ],
   "source": [
    "df=pd.read_csv(r'./train.csv')\n",
    "df.head()"
   ]
  },
  {
   "cell_type": "code",
   "execution_count": 3,
   "metadata": {},
   "outputs": [
    {
     "name": "stdout",
     "output_type": "stream",
     "text": [
      "Missing values before preprocessing:\n",
      "text         0\n",
      "sentiment    0\n",
      "dtype: int64\n",
      "\n",
      "Missing values after preprocessing:\n",
      "text         0\n",
      "sentiment    0\n",
      "dtype: int64\n"
     ]
    }
   ],
   "source": [
    "# Check for missing values\n",
    "print(\"Missing values before preprocessing:\")\n",
    "print(df.isnull().sum())\n",
    "\n",
    "# Handle missing values (replace NaN with an empty string)\n",
    "df['text'] = df['text'].fillna('')\n",
    "\n",
    "# Check missing values after preprocessing\n",
    "print(\"\\nMissing values after preprocessing:\")\n",
    "print(df.isnull().sum())\n"
   ]
  },
  {
   "cell_type": "code",
   "execution_count": 4,
   "metadata": {},
   "outputs": [
    {
     "name": "stdout",
     "output_type": "stream",
     "text": [
      "{\"they'll\", 'ci', 'certainly', 'ij', 'thered', 'himself', 'relatively', 'indeed', 'whereas', 'beyond', 'whether', 'unlike', 'goes', 'bn', 'specify', 'aj', 'course', 'ba', 'over', 'xn', 'might', 'going', 'ny', 'ask', 'ec', 'both', 'ar', 'briefly', 'sixty', 'h', 'are', 'anybody', 'everyone', 'fify', 'okay', 'ts', 'nevertheless', 'va', 'under', 'x', 'it', 'down', 'value', 'thoughh', 'js', 'amount', 'saw', 'primarily', 'pd', 'r', 'ge', 'cu', 'rn', 'tends', 'meanwhile', \"there've\", 'un', 'j', 'do', 'ej', 'but', 'ever', 'rv', \"who'll\", 'v', \"there's\", 'om', 'rr', 'lately', 'such', 'will', 'tm', 'a', 'specified', \"why's\", 'changes', \"that's\", 'afterwards', 'ev', 'approximately', 'ps', 'he', 'zero', 'something', 'means', 'poorly', 'g', 'ah', 'promptly', \"you'll\", 'werent', 'take', 'miss', 'ax', 'downwards', 'yourself', 'gave', 'somehow', 'pc', 'fifteen', 'much', 'less', 'whole', 'anyways', 'a1', 'c3', 'ay', 'myself', 'ke', 'inc', 'appreciate', 'ss', 'i6', 'thereto', 'really', 'yj', 'specifying', 'around', 'ui', 'say', 'already', 'iz', 'successfully', 'home', 'ms', 'hi', 'po', 'hundred', 'until', 'couldnt', 'ow', 'is', 'want', 'ns', 'see', 'instead', 'bx', 'resulting', 'wo', 'significantly', 'xo', 'which', 'hereafter', 'therefore', 'mt', 'found', 'ix', 'next', 'con', 'hereupon', 'hers', 'significant', 'cj', 'thereafter', 'your', 'has', 'appear', 'twice', 'into', '6o', \"a's\", 'nc', 'never', 'youre', 'resulted', 'done', 'ti', 'bp', 'research', 'have', 'qu', 'dd', 'auth', 'since', 'becomes', 'y', 'pj', 'usefully', 'n2', 'vs', 'ih', 'also', 'well-b', 'fu', \"it'd\", 'ending', 'regardless', 'yet', 'ib', 'back', 'during', 'ey', 'make', 'put', 'py', 'formerly', 'near', 'am', 'ok', 'df', 'le', 'whereafter', 'b2', 'theres', 'respectively', 'that', 'herself', 'yl', 'first', 'xi', 'lb', 'used', 'a3', 'ourselves', 's', 'obtained', 'tell', 'somethan', 'av', 'two', 'anyone', 'strongly', 'fj', 'these', 'ep', 'en', 'gs', 'how', 'my', 'th', 'who', 'did', 'nn', 'refs', 'throug', \"let's\", 'outside', 'if', 'doesn', \"we'd\", 'one', 'que', 'wa', 'below', 'cx', 'mr', 'giving', '3b', 'ch', 'we', 'et-al', 'trying', 'al', 'ei', 'truly', 'clearly', 'edu', 'yours', 'thus', 'three', 'shown', 'ph', 'own', 'date', 'being', 'second', 'associated', 'cg', 'does', 'les', 'vj', 'ed', 'empty', 'kept', 'unless', 'shouldn', 'ou', 'shed', 'd2', 'show', 'unlikely', \"they'd\", 'don', 'i', 'cit', 'had', 'x2', 'cy', 'moreover', 'c2', 'qv', 'every', 'entirely', 'op', 'furthermore', 'te', 'getting', 'described', 'begins', 'iy', 'gotten', 'what', 'r2', 'according', 'especially', 'ju', 'become', 'ig', 'thereupon', 'million', 'pr', 'seemed', 'omitted', 'dr', 'ca', 'dl', 'fc', 'hadn', 'wants', 'whim', 'per', 'indicated', 'ir', 'won', 'able', 'given', 'dy', 'dt', 'br', 'many', \"how's\", 'lf', 'gy', 'everything', 'be', 'ones', 'considering', 'wish', \"we'll\", 'best', 'af', 'definitely', \"i've\", 'vols', 'them', 'oz', 'could', 'seeing', 'likely', 'few', 'inward', 'jr', 'latter', 'get', 'specifically', 'oc', 'si', 'xk', 'presumably', 'detail', 'la', 'got', 'thanks', 'gl', 'substantially', 'most', 'ab', 'you', 'sd', 'should', 'ip', 'ag', 'everywhere', 'sufficiently', 'some', 'rather', 'former', 'wi', 'mu', 'widely', 'potentially', 'pq', 'after', 'wasn', 'this', 'from', \"we're\", 'ten', 'ra', 'importance', 'ml', 'hs', 'viz', 'mrs', 'ox', 'h2', 'within', 'cs', 'and', 'each', 'hes', 'whats', 'youd', 'allow', 'across', 'welcome', 'rm', 'everybody', 'unfortunately', 'itd', 'taken', 'pn', 'various', 'x3', \"you're\", 'ltd', 'seeming', 'p2', 'couldn', 'available', 'toward', 'inner', 'sec', 'behind', 'uk', 'same', 'together', 'na', 'beginnings', 'p3', 'twelve', 'oq', 'h3', 'however', 'volumtype', 'ho', 'f', 'whose', 'eight', 'em', 'often', 'tr', 'es', 'later', 'tj', 'fire', 'bs', 'i2', 'along', 'herein', 'slightly', 'index', 'ad', 'followed', 'tp', 'di', 'fy', 'lo', \"you'd\", 'll', 'sure', 'meantime', 'immediately', 'jj', 'soon', 'probably', 'pages', 'hopefully', \"she's\", 'd', 'keep', 'l2', 'oa', 'm', 'than', 'et', 'az', 'kg', 'vol', 'makes', 'pp', 'vu', 't3', 'us', 'come', 'tn', \"i'll\", 'sorry', 'dc', 'go', 'arent', 'greetings', 'seven', 'vq', 'ct', 'describe', 'l', 'wonder', 'whereby', 'brief', 'fr', 'quite', 'important', 'came', 'rl', 'whoever', 'nl', 'use', 'thou', 'mn', 'somebody', 'theyre', 'id', 'says', 'e2', 'because', 'xs', 'different', \"c's\", 'til', 'xf', \"he'll\", 'similar', 'whod', 'pl', 'sp', 'yr', 'except', 'through', 'invention', 'gj', 't2', 'aren', 'da', 'aside', 'o', 'regarding', 'bill', 'follows', 'seem', \"we've\", 'others', \"she'll\", 'necessarily', 'anyway', 'itself', 'needs', 'believe', 'sf', 'amongst', 'nd', 'zi', 'ne', 'io', '0o', 'i3', 'fl', 'im', 'still', 'wheres', 'xl', 'eleven', 'name', 'words', 'page', 'est', 'can', 'hardly', 'b', 'me', 'particularly', \"she'd\", 'theyd', 'alone', 'whos', 'lc', 'system', 'shan', 'ic', 'proud', 'cf', 'give', 'pf', 'hj', 'sc', 'xj', 'seriously', 'via', 'cq', 'pe', 'took', 'forth', 'just', 'whence', \"he'd\", 'fs', 'mg', 'present', 'tq', 'ft', 'away', 'nearly', 'research-articl', 'hello', 'whomever', 'well', 'pi', 'bt', 'try', 've', 'beforehand', 'ni', 'ur', 'obtain', 'keeps', 'despite', 'thoroughly', 'line', 'affected', 'recent', 'rt', 'wherein', 'ma', 'neither', 'upon', 'oh', 'those', 'dx', 'selves', 'ee', 'largely', 'fa', 'thereof', 'tx', 'mainly', 'b3', 'anything', 'lets', 'bottom', 'call', 'n', 'too', 'weren', 'contains', 'front', 'would', 'sometimes', 'hence', 'namely', 'gr', 'his', 'thats', 'needn', 'section', 'anywhere', 'el', 'seen', 'jt', 'onto', 'hu', 'owing', 'besides', 'stop', 'etc', 'par', 'eu', 'similarly', 'usefulness', 'right', 'therein', 'de', 'think', 'as', 'st', 'lest', 'beside', 'consider', 'quickly', 'ibid', 'ain', 'xt', 'gone', 't', 'her', 'sub', 'throughout', 'other', 'sm', 'e3', 'http', 'doing', 'with', 'several', 'beginning', 'once', 'p1', 'ninety', 'old', 'shows', 'hither', 'him', 'last', 'theirs', 'said', 'pt', 'ln', 'our', 'least', 'help', 'lr', 'tf', 'p', 'u', \"they've\", 'while', 'between', 'little', 'mustn', 'only', 'third', 'cc', 'on', 'shes', 'eg', 'wed', 'either', 'asking', 'previously', 'cn', 'sincere', 'to', 'sa', 'uo', 'wouldn', 'again', 'sl', 'fill', 'ue', 'willing', 'ea', 'taking', 'ga', 'tt', 'a4', 'secondly', 'ut', 'maybe', 'cry', 'or', 'about', 'of', 'thin', 'w', 'tb', 'q', 'ours', 'howbeit', 'far', 'gives', 'rf', 'towards', 'sensible', 'possible', 'tc', 'corresponding', 'od', 'c1', 'i4', 'xv', 'sr', 'kj', 'new', 'fix', 'zz', 'hed', 'actually', 'exactly', 'mill', 'though', 'thorough', 'bi', 'du', 'arise', 'looks', 'five', 'ko', 'iq', 'sq', 'ran', 'all', 'ap', 'concerning', 'mightn', 'almost', 'oo', 'forty', 'immediate', 'six', 'ot', 'even', 'happens', 'rs', \"should've\", 'sometime', 'way', 'i8', 're', 'com', 'nt', 'vd', 'side', 'sz', 'km', 'need', 'perhaps', 'aw', 'thence', 'interest', 'ls', 'becoming', 'in', 'affects', 'off', 'lt', 'yes', 'cv', 'by', 'before', \"that'll\", 'made', 'k', 'rj', 'became', 'mug', 'ng', 'appropriate', 'the', 'cause', 'overall', 'rh', 'tv', 'thank', 'part', 'fifth', 'ff', 'tl', 'ups', 'here', 'ob', 'bj', 'effect', 'ii', 'bl', 'sent', 'thickv', 'td', 'plus', 'm2', 'for', 'ought', 'ol', \"what's\", 'ao', 'there', 'merely', 'following', 'cp', 'act', 'iv', 'accordingly', 'hr', \"it'll\", 'related', 'co', 'pas', 'against', 'uses', 'apart', 'ds', 'bu', 'may', 'gi', 'move', 'yt', 'mo', 'mine', 'always', \"i'd\", 'top', 'thereby', \"where's\", 'whatever', 'their', 'causes', 'somewhat', 'mostly', 'above', 'information', \"they're\", \"when's\", 'heres', 'hasn', 'particular', \"t's\", 'went', 'amoungst', 'like', 'whereupon', 'readily', 'then', 'wouldnt', 'consequently', 'au', 'z', 'xx', 'fo', 'was', 'haven', 'more', 'fi', 'otherwise', 'affecting', 'its', 'four', 'why', 'insofar', 'pm', 'hereby', 'when', 'obviously', 'been', 'pk', 'using', 'isn', 'she', 'i7', \"who's\", 'cl', 'u201d', 'los', 'nine', 'reasonably', 'cm', 'serious', 'anymore', \"here's\", 'indicate', 'they', 'um', 'f2', 'a2', 'vo', 'contain', 'rc', 'wont', 'accordance', 'latterly', 'showns', 'must', 'due', 'allows', 'regards', 'looking', 'liked', 'added', 'didn', '3d', '0s', 'inasmuch', 'further', 'world', 'whither', 'very', 'wherever', 'eighty', 'adj', 'dk', \"it's\", 'someone', 'hh', 'among', 'oj', 'ru', 'se', 'lj', \"what'll\", 'run', 'begin', 'possibly', 'cr', 'nr', 'cz', 'at', 'hy', \"i'm\", 'suggest', 'thru', 'unto', 'cd', 'ce', 'past', 'dp', 'ie', 'oi', 'qj', 'any', 'twenty', 'useful', 'whenever', \"he's\", 'dj', 'comes', 'were', 'bc', 't1', 'ri', 'else', 'vt', 'fn', 'self', \"that've\", 'anyhow', 'thanx', 'look', 'yourselves', 'ref', 'currently', 'provides', '6b', 'end', 'hasnt', \"there'll\", 'rd', 'somewhere', 'mean', 'abst', 'indicates', 'y2', 'saying', 'og', 'whom', 'uj', \"you've\", 'thousand', 'sy', 's2', 'er', 'sj', 'hid', 'necessary', 'gets', 'bd', 'so', 'il', '3a', 'please', 'sup', 'c', 'full', 'ia', 'ef', 'tried', 'out', 'eo', 'shall', 'ord', 'ro', 'where', 'up', 'os', 'tip', 'www', 'containing', 'biol', 'ex', 'placed', 'example', 'ry', 'ac', 'ae', 'without', 'an', 'bk', 'usually', 'find', 'showed', 'sn', 'ys', 'tries', 'wasnt', 'let', 'certain', 'nay', 'pagecount', 'rq', 'nj', 'better', 'eq', 'seems', 'apparently', 'themselves', 'therere', 'predominantly', 'awfully', 'cant', 'results', 'elsewhere', 'recently', 'although', \"c'mon\", 'having', 'pu', 'x1', 'e', 'b1'}\n"
     ]
    }
   ],
   "source": [
    "# stopwords\n",
    "total_stopwords= set(stopwords.words('english'))\n",
    "\n",
    "# subtracy negetive stopwords like no, not, don't, etc... from total_stopwords\n",
    "negetive_stop_words=set(word for word in total_stopwords\n",
    "                        if \"n't\" in word or 'no' in word)\n",
    "\n",
    "final_stopwords= total_stopwords - negetive_stop_words\n",
    "\n",
    "\n",
    "#\n",
    "final_stopwords.add(\"one\")\n",
    "print(final_stopwords)"
   ]
  },
  {
   "cell_type": "code",
   "execution_count": 5,
   "metadata": {},
   "outputs": [],
   "source": [
    "#stemming object\n",
    "stemmer = PorterStemmer()\n",
    "\n",
    "#-----------------------------\n",
    "HTMLTAGS= re.compile(r'<.*?>')\n",
    "table= str.maketrans(dict.fromkeys(string.punctuation))\n",
    "remove_digits= str.maketrans('','',string.digits)\n",
    "MULTIPLE_WHITESPACE= re.compile(r\"\\s+\")"
   ]
  },
  {
   "cell_type": "code",
   "execution_count": 6,
   "metadata": {},
   "outputs": [],
   "source": [
    "def preprocessor(review):\n",
    "    if isinstance(review, str):\n",
    "        # Remove html tags\n",
    "        review = HTMLTAGS.sub(r' ', review)\n",
    "        \n",
    "        # Remove punctuations\n",
    "        review = review.translate(table)\n",
    "        \n",
    "        # Remove digits\n",
    "        review = review.translate(remove_digits)\n",
    "        \n",
    "        # Lowercase all letters\n",
    "        review = review.lower()\n",
    "        \n",
    "        # Replace multiple whitespaces with a single space\n",
    "        review = MULTIPLE_WHITESPACE.sub(\" \", review).strip()\n",
    "        \n",
    "        # Remove stopwords\n",
    "        review = [word for word in review.split() if word not in final_stopwords]\n",
    "        \n",
    "        # Stemming\n",
    "        review = ' '.join([stemmer.stem(word) for word in review])\n",
    "    return review\n"
   ]
  },
  {
   "cell_type": "code",
   "execution_count": 7,
   "metadata": {},
   "outputs": [
    {
     "name": "stdout",
     "output_type": "stream",
     "text": [
      "Before preprocessing :\n"
     ]
    },
    {
     "data": {
      "text/plain": [
       "'This was a great movie with a good cast, all of them hitting on all cylinders. And when Dianne Keaton is at her best, well, it just doesn\\'t get any better than that. But Tom Everett Scott, always underrated, was even better. He should be a star. <br /><br />My only complaint is with one aspect of the screenplay. None of the characters ever acknowledged that the dead daughter wasn\\'t always a good person. And neither was her mother, played by Keaton. At one point she breaks a promise she made to one character not to reveal that he had been sleeping around. <br /><br />One of the other commentators said the movie had a \"political agenda\". That is a baffling thing to say. There was no politics at all in this movie.'"
      ]
     },
     "execution_count": 7,
     "metadata": {},
     "output_type": "execute_result"
    }
   ],
   "source": [
    "# before preprocessing\n",
    "print(\"Before preprocessing :\")\n",
    "df.text.iloc[6]"
   ]
  },
  {
   "cell_type": "code",
   "execution_count": 8,
   "metadata": {},
   "outputs": [
    {
     "name": "stdout",
     "output_type": "stream",
     "text": [
      "After preprocessing : \n"
     ]
    },
    {
     "data": {
      "text/plain": [
       "'great movi good cast hit cylind diann keaton doesnt tom everett scott underr star complaint aspect screenplay none charact acknowledg dead daughter good person mother play keaton point break promis charact not reveal sleep comment movi polit agenda baffl thing no polit movi'"
      ]
     },
     "execution_count": 8,
     "metadata": {},
     "output_type": "execute_result"
    }
   ],
   "source": [
    "# after applying preprocessig function\n",
    "\n",
    "df.text= df.text.apply(preprocessor)\n",
    "print(\"After preprocessing : \")\n",
    "df.text.iloc[6]"
   ]
  },
  {
   "cell_type": "code",
   "execution_count": 9,
   "metadata": {},
   "outputs": [
    {
     "data": {
      "image/png": "[encoded data removed]",
      "text/plain": [
       "<Figure size 1000x600 with 1 Axes>"
      ]
     },
     "metadata": {},
     "output_type": "display_data"
    }
   ],
   "source": [
    "# Additional imports for EDA\n",
    "import seaborn as sns\n",
    "import matplotlib.pyplot as plt\n",
    "\n",
    "# Visualize class distribution\n",
    "plt.figure(figsize=(10, 6))\n",
    "sns.countplot(x='sentiment', data=df)\n",
    "plt.title('Distribution of Sentiments')\n",
    "plt.show()\n"
   ]
  },
  {
   "cell_type": "code",
   "execution_count": 10,
   "id": "09b00f96",
   "metadata": {},
   "outputs": [
    {
     "name": "stdout",
     "output_type": "stream",
     "text": [
      "Train shape: (35000,), Test shape: (15000,)\n"
     ]
    }
   ],
   "source": [
    "\n",
    "x=df.text\n",
    "y=df.sentiment\n",
    "\n",
    "# Use a seed for reproducibility\n",
    "seed = 42\n",
    "\n",
    "# Split the data\n",
    "x_train, x_test, y_train, y_test = train_test_split(x, y, test_size=0.30, random_state=seed, stratify=y)\n",
    "print(f\"Train shape: {x_train.shape}, Test shape: {x_test.shape}\")\n",
    "\n"
   ]
  },
  {
   "cell_type": "code",
   "execution_count": 11,
   "metadata": {},
   "outputs": [
    {
     "data": {
      "text/html": [
       "<div>\n",
       "<style scoped>\n",
       "    .dataframe tbody tr th:only-of-type {\n",
       "        vertical-align: middle;\n",
       "    }\n",
       "\n",
       "    .dataframe tbody tr th {\n",
       "        vertical-align: top;\n",
       "    }\n",
       "\n",
       "    .dataframe thead th {\n",
       "        text-align: right;\n",
       "    }\n",
       "</style>\n",
       "<table border=\"1\" class=\"dataframe\">\n",
       "  <thead>\n",
       "    <tr style=\"text-align: right;\">\n",
       "      <th></th>\n",
       "      <th>text</th>\n",
       "      <th>sentiment</th>\n",
       "    </tr>\n",
       "  </thead>\n",
       "  <tbody>\n",
       "    <tr>\n",
       "      <th>9026</th>\n",
       "      <td>wonder rehash success movi plot case movi wed ...</td>\n",
       "      <td>neg</td>\n",
       "    </tr>\n",
       "    <tr>\n",
       "      <th>14461</th>\n",
       "      <td>catch film marilyn miller not tcm uki intrigu ...</td>\n",
       "      <td>neg</td>\n",
       "    </tr>\n",
       "    <tr>\n",
       "      <th>29799</th>\n",
       "      <td>deep breath terribl special effect reach limit...</td>\n",
       "      <td>neg</td>\n",
       "    </tr>\n",
       "    <tr>\n",
       "      <th>13230</th>\n",
       "      <td>unknown gem base french farcewhich compliment ...</td>\n",
       "      <td>pos</td>\n",
       "    </tr>\n",
       "    <tr>\n",
       "      <th>31764</th>\n",
       "      <td>bit disappoint expect laugh storylin lead acto...</td>\n",
       "      <td>neg</td>\n",
       "    </tr>\n",
       "  </tbody>\n",
       "</table>\n",
       "</div>"
      ],
      "text/plain": [
       "                                                    text sentiment\n",
       "9026   wonder rehash success movi plot case movi wed ...       neg\n",
       "14461  catch film marilyn miller not tcm uki intrigu ...       neg\n",
       "29799  deep breath terribl special effect reach limit...       neg\n",
       "13230  unknown gem base french farcewhich compliment ...       pos\n",
       "31764  bit disappoint expect laugh storylin lead acto...       neg"
      ]
     },
     "execution_count": 11,
     "metadata": {},
     "output_type": "execute_result"
    }
   ],
   "source": [
    "df[['text','sentiment']].sample(5)"
   ]
  },
  {
   "cell_type": "code",
   "execution_count": 12,
   "metadata": {},
   "outputs": [
    {
     "data": {
      "text/plain": [
       "(50000, 2)"
      ]
     },
     "execution_count": 12,
     "metadata": {},
     "output_type": "execute_result"
    }
   ],
   "source": [
    "pos=df.loc[df.sentiment==\"pos\"]\n",
    "neg=df.loc[df.sentiment==\"neg\"]\n",
    "\n",
    "df=pd.concat([pos,neg])\n",
    "df.shape\n",
    "\n"
   ]
  },
  {
   "cell_type": "code",
   "execution_count": 13,
   "metadata": {},
   "outputs": [
    {
     "data": {
      "image/png": "[encoded data removed]",
      "text/plain": [
       "<Figure size 2000x600 with 1 Axes>"
      ]
     },
     "metadata": {},
     "output_type": "display_data"
    }
   ],
   "source": [
    "\n",
    "fig, ax=plt.subplots(figsize=(20,6))\n",
    "vc=df.sentiment.value_counts()\n",
    "vc.plot.barh(color=\"cyan\",fontsize=14,ax=ax)\n",
    "ax.set_title(\"Sentiment vs Count\",fontsize=14)\n",
    "plt.show()\n"
   ]
  },
  {
   "cell_type": "code",
   "execution_count": 14,
   "metadata": {},
   "outputs": [
    {
     "data": {
      "image/png": "[encoded data removed]",
      "text/plain": [
       "<Figure size 600x600 with 1 Axes>"
      ]
     },
     "metadata": {},
     "output_type": "display_data"
    }
   ],
   "source": [
    "# Additional imports for EDA\n",
    "import seaborn as sns\n",
    "import matplotlib.pyplot as plt\n",
    "\n",
    "# Visualize class distribution\n",
    "plt.figure(figsize=(6, 6))\n",
    "sns.countplot(x='sentiment', data=df)\n",
    "plt.title('Distribution of Sentiments')\n",
    "plt.show()\n"
   ]
  },
  {
   "cell_type": "code",
   "execution_count": 15,
   "metadata": {},
   "outputs": [],
   "source": [
    "#Tf-IDF vectorizer\n",
    "tfidf_Vectorizer= TfidfVectorizer(max_features=10000)\n",
    "tfidf_Vectorizer.fit(x_train)\n",
    "\n",
    "#transform\n",
    "tfidf_x_train=tfidf_Vectorizer.transform(x_train)\n",
    "tfidf_x_test=tfidf_Vectorizer.transform(x_test)\n"
   ]
  },
  {
   "cell_type": "code",
   "execution_count": 16,
   "id": "7712ed46",
   "metadata": {},
   "outputs": [
    {
     "name": "stdout",
     "output_type": "stream",
     "text": [
      "['neg', 'pos']\n"
     ]
    }
   ],
   "source": [
    "#label encoding the data \n",
    "from sklearn.preprocessing import LabelEncoder\n",
    "labelEncoder= LabelEncoder()\n",
    "\n",
    "y_train= labelEncoder.fit_transform(y_train)\n",
    "y_test=labelEncoder.transform(y_test)\n",
    "\n",
    "labels= labelEncoder.classes_.tolist()\n",
    "print(labels)"
   ]
  },
  {
   "cell_type": "code",
   "execution_count": 17,
   "metadata": {},
   "outputs": [],
   "source": [
    "# Import cross_val_score\n",
    "from sklearn.model_selection import cross_val_score\n",
    "from sklearn.metrics import accuracy_score, precision_score, recall_score, f1_score\n",
    "\n",
    "\n",
    "# Modify train_and_eval function to include cross-validation\n",
    "def train_and_eval(model, trainX, trainY, testX, testY, cv=5):\n",
    "    _ = model.fit(trainX, trainY)\n",
    "    y_preds_train = model.predict(trainX)\n",
    "    y_preds_test = model.predict(testX)\n",
    "\n",
    "    print(f\"\\n{model}\")\n",
    "    print(f\"Train Accuracy: {accuracy_score(trainY, y_preds_train)}\")\n",
    "    print(f\"Test Accuracy: {accuracy_score(testY, y_preds_test)}\")\n",
    "    print(f\"Precision: {precision_score(testY, y_preds_test, average='weighted')}\")\n",
    "    print(f\"Recall: {recall_score(testY, y_preds_test, average='weighted')}\")\n",
    "    print(f\"F1 Score: {f1_score(testY, y_preds_test, average='weighted')}\")\n",
    "    print(f\"Cross-Validation Accuracy: {np.mean(cross_val_score(model, trainX, trainY, cv=cv))}\")\n",
    "    print(40 * '-')\n"
   ]
  },
  {
   "cell_type": "code",
   "execution_count": 18,
   "metadata": {},
   "outputs": [
    {
     "name": "stdout",
     "output_type": "stream",
     "text": [
      "\n",
      "MultinomialNB(alpha=0)\n",
      "Train Accuracy: 0.8721714285714286\n",
      "Test Accuracy: 0.8506\n",
      "Precision: 0.8506216980289928\n",
      "Recall: 0.8506\n",
      "F1 Score: 0.8505976885802398\n",
      "Cross-Validation Accuracy: 0.8459142857142856\n",
      "----------------------------------------\n",
      "\n",
      "MultinomialNB(alpha=0.2)\n",
      "Train Accuracy: 0.8721714285714286\n",
      "Test Accuracy: 0.8522\n",
      "Precision: 0.852208571973956\n",
      "Recall: 0.8522\n",
      "F1 Score: 0.8521991007136395\n",
      "Cross-Validation Accuracy: 0.8476285714285714\n",
      "----------------------------------------\n",
      "\n",
      "MultinomialNB(alpha=0.6)\n",
      "Train Accuracy: 0.8725714285714286\n",
      "Test Accuracy: 0.8526\n",
      "Precision: 0.8526060240780292\n",
      "Recall: 0.8526\n",
      "F1 Score: 0.8525993704355334\n",
      "Cross-Validation Accuracy: 0.8491428571428573\n",
      "----------------------------------------\n",
      "\n",
      "MultinomialNB(alpha=0.8)\n",
      "Train Accuracy: 0.8719714285714286\n",
      "Test Accuracy: 0.8531333333333333\n",
      "Precision: 0.8531366543873807\n",
      "Recall: 0.8531333333333333\n",
      "F1 Score: 0.8531329880326698\n",
      "Cross-Validation Accuracy: 0.8499714285714285\n",
      "----------------------------------------\n",
      "\n",
      "MultinomialNB(alpha=1)\n",
      "Train Accuracy: 0.8718571428571429\n",
      "Test Accuracy: 0.8536\n",
      "Precision: 0.8536009052183173\n",
      "Recall: 0.8536\n",
      "F1 Score: 0.85359990630394\n",
      "Cross-Validation Accuracy: 0.8502857142857143\n",
      "----------------------------------------\n",
      "\n",
      "MultinomialNB(alpha=1.2)\n",
      "Train Accuracy: 0.8714571428571428\n",
      "Test Accuracy: 0.8538666666666667\n",
      "Precision: 0.8538672957640813\n",
      "Recall: 0.8538666666666667\n",
      "F1 Score: 0.8538666017184897\n",
      "Cross-Validation Accuracy: 0.8506285714285715\n",
      "----------------------------------------\n"
     ]
    }
   ],
   "source": [
    "alphas=[0,0.2,0.6,0.8,1,1.2]\n",
    "\n",
    "for a in alphas:\n",
    "    #define model\n",
    "    nb_model= MultinomialNB(alpha=a)\n",
    "\n",
    "    #train and evaluate model\n",
    "    train_and_eval(model=nb_model,\n",
    "                   trainX=tfidf_x_train,\n",
    "                   trainY=y_train,\n",
    "                   testX=tfidf_x_test,\n",
    "                   testY=y_test)"
   ]
  },
  {
   "cell_type": "code",
   "execution_count": 19,
   "metadata": {},
   "outputs": [],
   "source": [
    "# model evaluation\n",
    "def plot_cm(y_true,y_pred):\n",
    "    plt.figure(figsize=(6,6))\n",
    "\n",
    "    cm= confusion_matrix(y_true,y_pred,normalize='true')\n",
    "\n",
    "    sns.heatmap(\n",
    "        cm, annot=True, cmap='Blues', cbar=False, fmt='.2f',xticklabels=labels, yticklabels=labels)\n",
    "    \n",
    "    return plt.show()"
   ]
  },
  {
   "cell_type": "code",
   "execution_count": 20,
   "metadata": {},
   "outputs": [
    {
     "name": "stdout",
     "output_type": "stream",
     "text": [
      "Train accuracy score : 0.8714571428571428\n",
      "Test accuracy score : 0.8538666666666667\n"
     ]
    }
   ],
   "source": [
    "# predictions for naive classifier model\n",
    "y_preds_train= nb_model.predict(tfidf_x_train)\n",
    "y_preds_test= nb_model.predict(tfidf_x_test)\n",
    "\n",
    "# accuracy\n",
    "print(f\"Train accuracy score : {accuracy_score(y_train, y_preds_train)}\")\n",
    "print(f\"Test accuracy score : {accuracy_score(y_test, y_preds_test)}\")"
   ]
  },
  {
   "cell_type": "code",
   "execution_count": 21,
   "metadata": {},
   "outputs": [
    {
     "data": {
      "image/png": "[encoded data removed]",
      "text/plain": [
       "<Figure size 600x600 with 1 Axes>"
      ]
     },
     "metadata": {},
     "output_type": "display_data"
    }
   ],
   "source": [
    "plot_cm(y_test,y_preds_test)"
   ]
  },
  {
   "cell_type": "code",
   "execution_count": 23,
   "metadata": {},
   "outputs": [],
   "source": [
    "import pickle\n",
    "\n",
    "# save model and transformer\n",
    "\n",
    "with open(\"transformer.pkl\",'wb') as f:\n",
    "    pickle.dump(tfidf_Vectorizer,f)\n",
    "\n",
    "with open(\"model.pkl\",'wb') as f:\n",
    "    pickle.dump(nb_model ,f)\n"
   ]
  },
  {
   "cell_type": "code",
   "execution_count": 24,
   "metadata": {},
   "outputs": [
    {
     "name": "stdout",
     "output_type": "stream",
     "text": [
      "this is a very very bad movie : This is a neg review !\n",
      "movie was very bad : This is a neg review !\n",
      "movie was bad : This is a neg review !\n",
      "this was a movie ? : This is a neg review !\n",
      "movie was very good : This is a neg review !\n",
      "movie was good : This is a neg review !\n",
      "movie was worst : This is a neg review !\n",
      "the movie was terrible : This is a neg review !\n",
      "it was amazing : This is a pos review !\n",
      "the movie was moderate : This is a neg review !\n",
      "the movie was the most badass movie : This is a neg review !\n",
      "it was the most awesome movie : This is a pos review !\n",
      "it was neutral : This is a pos review !\n",
      "basic movie : This is a neg review !\n",
      "it was up to the mark : This is a pos review !\n",
      "my name is khan : This is a pos review !\n",
      "the movie was okay : This is a neg review !\n",
      "the movie was not worthit at all : This is a neg review !\n",
      "that movie had a sad ending : This is a pos review !\n",
      "the movie was not worthit at all : This is a neg review !\n",
      "that movie had a sad ending : This is a pos review !\n",
      "The dilemma of the storyline was fascinating : This is a pos review !\n",
      "i wasen't satisfied with the movie : This is a pos review !\n"
     ]
    }
   ],
   "source": [
    "def get_sentiment(review):\n",
    "    \n",
    "    #preprocessing\n",
    "    x= preprocessor(review)\n",
    "\n",
    "    #vectorization\n",
    "    x= tfidf_Vectorizer.transform([x])\n",
    "\n",
    "    #prediction\n",
    "    y= int(nb_model.predict(x.reshape(1,-1)))\n",
    "    return labels[y]\n",
    "\n",
    "# negetive review\n",
    "\n",
    "arr=[\"this is a very very bad movie\",\"movie was very bad\",\"movie was bad\",\"this was a movie ?\",\n",
    "     \"movie was very good\",\"movie was good\",\"movie was worst\",\n",
    "     \"the movie was terrible\",\"it was amazing\",\"the movie was moderate\",\"the movie was the most badass movie\",\n",
    "     \"it was the most awesome movie\",\n",
    "     \"it was neutral\",\"basic movie\",\"it was up to the mark\",\"my name is khan\",\"the movie was okay\",\n",
    "     \"the movie was not worthit at all\",\"that movie had a sad ending\",\"the movie was not worthit at all\",\n",
    "     \"that movie had a sad ending\",\n",
    "     \"The dilemma of the storyline was fascinating\",\"i wasen't satisfied with the movie\"]\n",
    "\n",
    "for i in arr:\n",
    "    print(f\"{i} : This is a {get_sentiment(i)} review !\")"
   ]
  }
 ],
 "metadata": {
  "kernelspec": {
   "display_name": "Python 3 (ipykernel)",
   "language": "python",
   "name": "python3"
  },
  "language_info": {
   "codemirror_mode": {
    "name": "ipython",
    "version": 3
   },
   "file_extension": ".py",
   "mimetype": "text/x-python",
   "name": "python",
   "nbconvert_exporter": "python",
   "pygments_lexer": "ipython3",
   "version": "3.12.1"
  }
 },
 "nbformat": 4,
 "nbformat_minor": 5
}
